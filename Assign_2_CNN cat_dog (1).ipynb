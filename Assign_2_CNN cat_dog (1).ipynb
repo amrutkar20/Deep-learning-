{
 "cells": [
  {
   "cell_type": "code",
   "execution_count": 107,
   "id": "469b3f99",
   "metadata": {},
   "outputs": [],
   "source": [
    "import numpy as np\n",
    "import pandas as pd"
   ]
  },
  {
   "cell_type": "code",
   "execution_count": 108,
   "id": "0cbb3738",
   "metadata": {},
   "outputs": [],
   "source": [
    "import os"
   ]
  },
  {
   "cell_type": "code",
   "execution_count": 109,
   "id": "ba613204",
   "metadata": {},
   "outputs": [],
   "source": [
    "import cv2"
   ]
  },
  {
   "cell_type": "code",
   "execution_count": 110,
   "id": "c119c13d",
   "metadata": {},
   "outputs": [],
   "source": [
    "import matplotlib.pyplot as plt\n",
    "from sklearn.model_selection import train_test_split"
   ]
  },
  {
   "cell_type": "code",
   "execution_count": 111,
   "id": "4f482614",
   "metadata": {},
   "outputs": [],
   "source": [
    "Datadir = \"C:\\\\Users\\\\asbid\\\\Downloads\\\\kagglecatsanddogs_5340\\\\PetImages\""
   ]
  },
  {
   "cell_type": "code",
   "execution_count": 112,
   "id": "74869b3c",
   "metadata": {},
   "outputs": [],
   "source": [
    "categories = ['Cat', 'Dog']"
   ]
  },
  {
   "cell_type": "markdown",
   "id": "2e24a41d",
   "metadata": {},
   "source": [
    "# Loading as Coloured Images"
   ]
  },
  {
   "cell_type": "code",
   "execution_count": 113,
   "id": "b0d42aab",
   "metadata": {},
   "outputs": [],
   "source": [
    "IMG_SIZE = 50"
   ]
  },
  {
   "cell_type": "code",
   "execution_count": 114,
   "id": "4ce5712d",
   "metadata": {},
   "outputs": [],
   "source": [
    "training_data =[]\n",
    "def create_training_data():\n",
    "    for category in categories:\n",
    "        path = os.path.join(Datadir, category)\n",
    "        class_num = categories.index(category)\n",
    "        for img in os.listdir(path):\n",
    "            try:\n",
    "                img_array = cv2.imread(os.path.join(path, img))\n",
    "                new_array = cv2.resize(img_array, (IMG_SIZE, IMG_SIZE))\n",
    "                training_data.append([new_array, class_num])\n",
    "            except Exception as e:\n",
    "                pass\n",
    "create_training_data()"
   ]
  },
  {
   "cell_type": "code",
   "execution_count": 115,
   "id": "d29441a2",
   "metadata": {},
   "outputs": [
    {
     "data": {
      "text/plain": [
       "24946"
      ]
     },
     "execution_count": 115,
     "metadata": {},
     "output_type": "execute_result"
    }
   ],
   "source": [
    "len(training_data)"
   ]
  },
  {
   "cell_type": "code",
   "execution_count": 116,
   "id": "e9d5bbdb",
   "metadata": {},
   "outputs": [],
   "source": [
    "# Data Splitting"
   ]
  },
  {
   "cell_type": "code",
   "execution_count": 117,
   "id": "288d1db8",
   "metadata": {},
   "outputs": [],
   "source": [
    "import random"
   ]
  },
  {
   "cell_type": "code",
   "execution_count": 118,
   "id": "8ffabf4a",
   "metadata": {},
   "outputs": [],
   "source": [
    "random.shuffle(training_data)"
   ]
  },
  {
   "cell_type": "code",
   "execution_count": 119,
   "id": "2578885b",
   "metadata": {},
   "outputs": [],
   "source": [
    "X = []\n",
    "y = []"
   ]
  },
  {
   "cell_type": "code",
   "execution_count": 120,
   "id": "69a9fed4",
   "metadata": {},
   "outputs": [],
   "source": [
    "for img, label in training_data:\n",
    "    X.append(img)\n",
    "    y.append(label)"
   ]
  },
  {
   "cell_type": "code",
   "execution_count": null,
   "id": "811bf56d",
   "metadata": {},
   "outputs": [],
   "source": []
  },
  {
   "cell_type": "code",
   "execution_count": 121,
   "id": "1df21fe1",
   "metadata": {},
   "outputs": [],
   "source": [
    "X = np.array(X).reshape(-1, 7500)"
   ]
  },
  {
   "cell_type": "code",
   "execution_count": 122,
   "id": "957db9e2",
   "metadata": {},
   "outputs": [
    {
     "data": {
      "text/plain": [
       "array([[233, 244, 236, ..., 234, 242, 235],\n",
       "       [ 39,  72,  89, ..., 104, 151, 172],\n",
       "       [  0,   3,   3, ...,  21,  43,  71],\n",
       "       ...,\n",
       "       [ 21,  26,  24, ..., 157, 159, 148],\n",
       "       [ 44,  50,  60, ...,  29,  19,  22],\n",
       "       [101,  99,  99, ..., 138, 139,  67]], dtype=uint8)"
      ]
     },
     "execution_count": 122,
     "metadata": {},
     "output_type": "execute_result"
    }
   ],
   "source": [
    "X"
   ]
  },
  {
   "cell_type": "code",
   "execution_count": 123,
   "id": "8bb4aba2",
   "metadata": {},
   "outputs": [
    {
     "data": {
      "text/plain": [
       "(24946, 7500)"
      ]
     },
     "execution_count": 123,
     "metadata": {},
     "output_type": "execute_result"
    }
   ],
   "source": [
    "X.shape"
   ]
  },
  {
   "cell_type": "code",
   "execution_count": 124,
   "id": "75720ae1",
   "metadata": {},
   "outputs": [],
   "source": [
    "y=np.array(y).reshape(-1,1)"
   ]
  },
  {
   "cell_type": "code",
   "execution_count": 229,
   "id": "53732e0d",
   "metadata": {},
   "outputs": [
    {
     "data": {
      "text/plain": [
       "array([[0],\n",
       "       [0],\n",
       "       [0],\n",
       "       ...,\n",
       "       [0],\n",
       "       [1],\n",
       "       [0]])"
      ]
     },
     "execution_count": 229,
     "metadata": {},
     "output_type": "execute_result"
    }
   ],
   "source": [
    "y"
   ]
  },
  {
   "cell_type": "code",
   "execution_count": 125,
   "id": "5e8c2966",
   "metadata": {},
   "outputs": [],
   "source": [
    "x_train, x_test, y_train, y_test = train_test_split(X,y)"
   ]
  },
  {
   "cell_type": "code",
   "execution_count": 126,
   "id": "e1147e14",
   "metadata": {},
   "outputs": [
    {
     "data": {
      "text/plain": [
       "array([0, 1])"
      ]
     },
     "execution_count": 126,
     "metadata": {},
     "output_type": "execute_result"
    }
   ],
   "source": [
    "labels=np.unique(y_test)\n",
    "labels"
   ]
  },
  {
   "cell_type": "markdown",
   "id": "75db96e1",
   "metadata": {},
   "source": [
    "# Loading as Black and White Images"
   ]
  },
  {
   "cell_type": "code",
   "execution_count": 19,
   "id": "fe7fd86b",
   "metadata": {},
   "outputs": [],
   "source": [
    "training_data_BW =[]\n",
    "def create_training_data_BW():\n",
    "    for category in categories:\n",
    "        path = os.path.join(Datadir, category)\n",
    "        class_num = categories.index(category)\n",
    "        for img in os.listdir(path):\n",
    "            try:\n",
    "                img_array = cv2.imread(os.path.join(path, img), cv2.IMREAD_GRAYSCALE)\n",
    "                new_array = cv2.resize(img_array, (IMG_SIZE, IMG_SIZE))\n",
    "                training_data_BW.append([new_array, class_num])\n",
    "            except Exception as e:\n",
    "                pass\n",
    "create_training_data_BW()"
   ]
  },
  {
   "cell_type": "code",
   "execution_count": 20,
   "id": "9a2724c1",
   "metadata": {},
   "outputs": [],
   "source": [
    "random.shuffle(training_data_BW)"
   ]
  },
  {
   "cell_type": "code",
   "execution_count": 21,
   "id": "a2293f6c",
   "metadata": {},
   "outputs": [],
   "source": [
    "X = []\n",
    "y = []"
   ]
  },
  {
   "cell_type": "code",
   "execution_count": 22,
   "id": "049dd3f0",
   "metadata": {},
   "outputs": [],
   "source": [
    "for img, label in training_data:\n",
    "    X.append(img)\n",
    "    y.append(label)"
   ]
  },
  {
   "cell_type": "code",
   "execution_count": 23,
   "id": "fcb6f8e1",
   "metadata": {},
   "outputs": [],
   "source": [
    "X = np.array(X).reshape(-1, 50, 50 ,1) "
   ]
  },
  {
   "cell_type": "code",
   "execution_count": 40,
   "id": "6a61d078",
   "metadata": {},
   "outputs": [],
   "source": []
  },
  {
   "cell_type": "code",
   "execution_count": 57,
   "id": "85f6d942",
   "metadata": {},
   "outputs": [
    {
     "name": "stdout",
     "output_type": "stream",
     "text": [
      "(18709, 7500) (6237, 7500) (18709, 1) (6237, 1)\n"
     ]
    }
   ],
   "source": [
    "print(x_train.shape, x_test.shape, y_train.shape, y_test.shape)"
   ]
  },
  {
   "cell_type": "code",
   "execution_count": 58,
   "id": "fc371a3c",
   "metadata": {},
   "outputs": [
    {
     "name": "stdout",
     "output_type": "stream",
     "text": [
      "Model: \"sequential_1\"\n",
      "_________________________________________________________________\n",
      " Layer (type)                Output Shape              Param #   \n",
      "=================================================================\n",
      " dense_2 (Dense)             (None, 50)                375050    \n",
      "                                                                 \n",
      " dense_3 (Dense)             (None, 1)                 51        \n",
      "                                                                 \n",
      "=================================================================\n",
      "Total params: 375,101\n",
      "Trainable params: 375,101\n",
      "Non-trainable params: 0\n",
      "_________________________________________________________________\n",
      "Epoch 1/10\n",
      "585/585 [==============================] - 4s 6ms/step - loss: 272.2252 - accuracy: 0.4982 - val_loss: 0.6932 - val_accuracy: 0.4982\n",
      "Epoch 2/10\n",
      "585/585 [==============================] - 4s 6ms/step - loss: 0.6932 - accuracy: 0.4972 - val_loss: 0.6932 - val_accuracy: 0.4982\n",
      "Epoch 3/10\n",
      "585/585 [==============================] - 4s 7ms/step - loss: 0.6932 - accuracy: 0.5005 - val_loss: 0.6932 - val_accuracy: 0.4982\n",
      "Epoch 4/10\n",
      "585/585 [==============================] - 3s 5ms/step - loss: 0.6932 - accuracy: 0.4950 - val_loss: 0.6931 - val_accuracy: 0.4982\n",
      "Epoch 5/10\n",
      "585/585 [==============================] - 3s 5ms/step - loss: 0.6932 - accuracy: 0.4982 - val_loss: 0.6932 - val_accuracy: 0.4982\n",
      "Epoch 6/10\n",
      "585/585 [==============================] - 3s 6ms/step - loss: 0.6932 - accuracy: 0.4986 - val_loss: 0.6932 - val_accuracy: 0.4982\n",
      "Epoch 7/10\n",
      "585/585 [==============================] - 3s 6ms/step - loss: 0.6932 - accuracy: 0.5010 - val_loss: 0.6931 - val_accuracy: 0.5018\n",
      "Epoch 8/10\n",
      "585/585 [==============================] - 4s 6ms/step - loss: 0.6932 - accuracy: 0.5001 - val_loss: 0.6932 - val_accuracy: 0.4982\n",
      "Epoch 9/10\n",
      "585/585 [==============================] - 3s 6ms/step - loss: 0.6932 - accuracy: 0.4972 - val_loss: 0.6932 - val_accuracy: 0.4982\n",
      "Epoch 10/10\n",
      "585/585 [==============================] - 3s 6ms/step - loss: 0.6932 - accuracy: 0.4995 - val_loss: 0.6932 - val_accuracy: 0.4982\n"
     ]
    }
   ],
   "source": [
    "#ANN\n",
    "from keras.models import Sequential\n",
    "from keras.layers import Dense\n",
    "ANN_model = Sequential()\n",
    "ANN_model.add(Dense(50, activation = 'relu', input_shape = x_train.shape[1:]))\n",
    "ANN_model.add(Dense(1, activation = 'sigmoid'))\n",
    "ANN_model.compile(loss = 'binary_crossentropy', optimizer = 'sgd', metrics = ['accuracy'])\n",
    "ANN_model.summary()\n",
    "ANN = ANN_model.fit(x_train, y_train, validation_data = (x_test, y_test), epochs = 10)"
   ]
  },
  {
   "cell_type": "code",
   "execution_count": 61,
   "id": "a1e8a3f8",
   "metadata": {},
   "outputs": [
    {
     "data": {
      "image/png": "[encoded data removed]",
      "text/plain": [
       "<Figure size 640x480 with 1 Axes>"
      ]
     },
     "metadata": {},
     "output_type": "display_data"
    }
   ],
   "source": [
    "plt.plot(ANN.history['accuracy'])\n",
    "plt.plot(ANN.history['val_accuracy'])\n",
    "plt.show()"
   ]
  },
  {
   "cell_type": "code",
   "execution_count": 63,
   "id": "6fb21656",
   "metadata": {},
   "outputs": [
    {
     "data": {
      "image/png": "[encoded data removed]",
      "text/plain": [
       "<Figure size 640x480 with 1 Axes>"
      ]
     },
     "metadata": {},
     "output_type": "display_data"
    }
   ],
   "source": [
    "plt.plot(ANN.history['loss'])\n",
    "plt.plot(ANN.history['val_loss'])\n",
    "plt.show()"
   ]
  },
  {
   "cell_type": "code",
   "execution_count": null,
   "id": "34c5778a",
   "metadata": {},
   "outputs": [],
   "source": []
  },
  {
   "cell_type": "code",
   "execution_count": null,
   "id": "fd86199e",
   "metadata": {},
   "outputs": [],
   "source": []
  },
  {
   "cell_type": "code",
   "execution_count": 149,
   "id": "0028ad92",
   "metadata": {},
   "outputs": [
    {
     "data": {
      "text/plain": [
       "(50, 50, 3)"
      ]
     },
     "execution_count": 149,
     "metadata": {},
     "output_type": "execute_result"
    }
   ],
   "source": [
    "# Reshaping\n",
    "x_train = x_train.reshape(18709,50,50,3)\n",
    "x_test = x_test.reshape(6237,50,50,3)\n",
    "x_train.shape[1:]"
   ]
  },
  {
   "cell_type": "code",
   "execution_count": 150,
   "id": "db724aa2",
   "metadata": {},
   "outputs": [
    {
     "name": "stdout",
     "output_type": "stream",
     "text": [
      "Epoch 1/5\n",
      "585/585 [==============================] - 90s 153ms/step - loss: 0.6939 - accuracy: 0.4988 - val_loss: 0.6931 - val_accuracy: 0.5023\n",
      "Epoch 2/5\n",
      "585/585 [==============================] - 88s 151ms/step - loss: 0.6938 - accuracy: 0.4998 - val_loss: 0.6932 - val_accuracy: 0.5023\n",
      "Epoch 3/5\n",
      "585/585 [==============================] - 86s 148ms/step - loss: 0.6938 - accuracy: 0.4953 - val_loss: 0.6934 - val_accuracy: 0.5023\n",
      "Epoch 4/5\n",
      "585/585 [==============================] - 87s 148ms/step - loss: 0.6938 - accuracy: 0.4990 - val_loss: 0.6932 - val_accuracy: 0.5023\n",
      "Epoch 5/5\n",
      "585/585 [==============================] - 90s 153ms/step - loss: 0.6937 - accuracy: 0.4997 - val_loss: 0.6932 - val_accuracy: 0.4977\n"
     ]
    }
   ],
   "source": [
    "from keras.layers import Conv2D, Dropout, Dense, MaxPooling2D, Flatten\n",
    "CNN_model = Sequential()\n",
    "CNN_model.add(Conv2D(filters = 64, kernel_size = (3,3), padding = 'same',input_shape=x_train.shape[1:], activation = 'relu'))\n",
    "CNN_model.add(Conv2D(filters = 32, kernel_size = 3, activation = 'relu', padding = 'same'))\n",
    "CNN_model.add(MaxPooling2D(2))\n",
    "CNN_model.add(Dropout(0.2))\n",
    "\n",
    "\n",
    "CNN_model.add(Flatten())\n",
    "CNN_model.add(Dense(50, activation = 'sigmoid'))\n",
    "CNN_model.add(Dense(1, activation = 'sigmoid'))\n",
    "\n",
    "CNN_model.compile(loss = 'binary_crossentropy', optimizer = 'adam', metrics = ['accuracy'])\n",
    "CNN = CNN_model.fit(x_train, y_train, validation_data = (x_test, y_test), epochs = 5)"
   ]
  },
  {
   "cell_type": "code",
   "execution_count": 152,
   "id": "7beecdfa",
   "metadata": {},
   "outputs": [
    {
     "data": {
      "image/png": "[encoded data removed]",
      "text/plain": [
       "<Figure size 640x480 with 1 Axes>"
      ]
     },
     "metadata": {},
     "output_type": "display_data"
    }
   ],
   "source": [
    "plt.plot(CNN.history['accuracy'])\n",
    "plt.plot(CNN.history['val_accuracy'])\n",
    "plt.show()"
   ]
  },
  {
   "cell_type": "code",
   "execution_count": 243,
   "id": "e421aaaa",
   "metadata": {},
   "outputs": [
    {
     "data": {
      "text/plain": [
       "<matplotlib.image.AxesImage at 0x1608b489c70>"
      ]
     },
     "execution_count": 243,
     "metadata": {},
     "output_type": "execute_result"
    },
    {
     "data": {
      "image/png": "[encoded data removed]",
      "text/plain": [
       "<Figure size 640x480 with 1 Axes>"
      ]
     },
     "metadata": {},
     "output_type": "display_data"
    }
   ],
   "source": [
    "my_image=x_test[0]\n",
    "plt.imshow(my_image.reshape(50,50,3))"
   ]
  },
  {
   "cell_type": "code",
   "execution_count": 244,
   "id": "9add7c89",
   "metadata": {},
   "outputs": [
    {
     "name": "stdout",
     "output_type": "stream",
     "text": [
      "1/1 [==============================] - 1s 729ms/step\n"
     ]
    },
    {
     "data": {
      "text/plain": [
       "0"
      ]
     },
     "execution_count": 244,
     "metadata": {},
     "output_type": "execute_result"
    }
   ],
   "source": [
    "np.argmax(ANN_model.predict(my_image.reshape(1,7500)))"
   ]
  },
  {
   "cell_type": "code",
   "execution_count": 245,
   "id": "b5ae6f1f",
   "metadata": {},
   "outputs": [
    {
     "name": "stdout",
     "output_type": "stream",
     "text": [
      "1/1 [==============================] - 1s 727ms/step\n"
     ]
    },
    {
     "data": {
      "text/plain": [
       "0"
      ]
     },
     "execution_count": 245,
     "metadata": {},
     "output_type": "execute_result"
    }
   ],
   "source": [
    "np.argmax(CNN_model.predict(my_image.reshape(1,50,50,3)))"
   ]
  },
  {
   "cell_type": "code",
   "execution_count": 216,
   "id": "545299dc",
   "metadata": {},
   "outputs": [
    {
     "name": "stdout",
     "output_type": "stream",
     "text": [
      "195/195 [==============================] - 4s 22ms/step\n"
     ]
    },
    {
     "data": {
      "text/plain": [
       "array([[0.5015917],\n",
       "       [0.5015917],\n",
       "       [0.5015917],\n",
       "       [0.5015917],\n",
       "       [0.5015917],\n",
       "       [0.5015917],\n",
       "       [0.5015917],\n",
       "       [0.5015917],\n",
       "       [0.5015917],\n",
       "       [0.5015917],\n",
       "       [0.5015917],\n",
       "       [0.5015917],\n",
       "       [0.5015917],\n",
       "       [0.5015917],\n",
       "       [0.5015917],\n",
       "       [0.5015917],\n",
       "       [0.5015917],\n",
       "       [0.5015917],\n",
       "       [0.5015917],\n",
       "       [0.5015917]], dtype=float32)"
      ]
     },
     "execution_count": 216,
     "metadata": {},
     "output_type": "execute_result"
    }
   ],
   "source": [
    "y_pred=CNN_model.predict(x_test)\n",
    "y_pred[:20]"
   ]
  },
  {
   "cell_type": "code",
   "execution_count": 104,
   "id": "1e66d59d",
   "metadata": {},
   "outputs": [],
   "source": [
    "y_pred=np.where(y_pred>0.5,0,1)"
   ]
  },
  {
   "cell_type": "code",
   "execution_count": null,
   "id": "edfddc09",
   "metadata": {},
   "outputs": [],
   "source": []
  }
 ],
 "metadata": {
  "kernelspec": {
   "display_name": "Python 3 (ipykernel)",
   "language": "python",
   "name": "python3"
  },
  "language_info": {
   "codemirror_mode": {
    "name": "ipython",
    "version": 3
   },
   "file_extension": ".py",
   "mimetype": "text/x-python",
   "name": "python",
   "nbconvert_exporter": "python",
   "pygments_lexer": "ipython3",
   "version": "3.9.7"
  }
 },
 "nbformat": 4,
 "nbformat_minor": 5
}
