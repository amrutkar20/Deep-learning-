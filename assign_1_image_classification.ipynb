{
 "cells": [
  {
   "cell_type": "code",
   "execution_count": 1,
   "id": "e91f72d1",
   "metadata": {},
   "outputs": [],
   "source": [
    "import numpy as np\n",
    "import pandas as pd"
   ]
  },
  {
   "cell_type": "code",
   "execution_count": 2,
   "id": "3557a808",
   "metadata": {},
   "outputs": [],
   "source": [
    "import pickle\n",
    "import os\n",
    "from tensorflow import keras"
   ]
  },
  {
   "cell_type": "code",
   "execution_count": 3,
   "id": "fdec89fe",
   "metadata": {},
   "outputs": [],
   "source": [
    "def unpickle(file):\n",
    "    with open(file, 'rb') as fo:\n",
    "        dict = pickle.load(fo, encoding = 'latin')\n",
    "    return dict"
   ]
  },
  {
   "cell_type": "code",
   "execution_count": 4,
   "id": "1f97486a",
   "metadata": {},
   "outputs": [],
   "source": [
    "def load_batch_data(batch_file):\n",
    "    filepath = os.path.join('D:/downloads/cifar-10-batches-py/', batch_file)\n",
    "    unpickled = unpickle(filepath)\n",
    "    return unpickled"
   ]
  },
  {
   "cell_type": "code",
   "execution_count": 5,
   "id": "02ce1a6f",
   "metadata": {},
   "outputs": [],
   "source": [
    "batch_file_1 = load_batch_data('data_batch_1')\n",
    "batch_file_2 = load_batch_data('data_batch_2')\n",
    "batch_file_3 = load_batch_data('data_batch_3')\n",
    "batch_file_4 = load_batch_data('data_batch_4')\n",
    "batch_file_5 = load_batch_data('data_batch_5')\n",
    "test_file = load_batch_data('test_batch')"
   ]
  },
  {
   "cell_type": "code",
   "execution_count": 6,
   "id": "140fa688",
   "metadata": {},
   "outputs": [],
   "source": [
    "x_train = np.concatenate([batch_file_1['data'],batch_file_2['data'],batch_file_3['data'],batch_file_4['data'],batch_file_5['data']])"
   ]
  },
  {
   "cell_type": "code",
   "execution_count": 7,
   "id": "695476c1",
   "metadata": {},
   "outputs": [],
   "source": [
    "x_test = test_file['data']"
   ]
  },
  {
   "cell_type": "code",
   "execution_count": 8,
   "id": "9166e16d",
   "metadata": {},
   "outputs": [],
   "source": [
    "from keras.utils import np_utils\n",
    "y_train = np.concatenate([np_utils.to_categorical(batch_file_1['labels'],10),np_utils.to_categorical(batch_file_2['labels'],10),np_utils.to_categorical(batch_file_3['labels'],10),np_utils.to_categorical(batch_file_4['labels'],10),np_utils.to_categorical(batch_file_5['labels'],10)])"
   ]
  },
  {
   "cell_type": "code",
   "execution_count": 9,
   "id": "103827a9",
   "metadata": {},
   "outputs": [],
   "source": [
    "y_test = np_utils.to_categorical(test_file['labels'],10)"
   ]
  },
  {
   "cell_type": "code",
   "execution_count": 10,
   "id": "c1ea88e6",
   "metadata": {},
   "outputs": [
    {
     "data": {
      "text/plain": [
       "array([0., 0., 0., 0., 0., 0., 1., 0., 0., 0.], dtype=float32)"
      ]
     },
     "execution_count": 10,
     "metadata": {},
     "output_type": "execute_result"
    }
   ],
   "source": [
    "y_train[0]"
   ]
  },
  {
   "cell_type": "code",
   "execution_count": 11,
   "id": "0da08cdd",
   "metadata": {},
   "outputs": [],
   "source": [
    "# data preprocessing"
   ]
  },
  {
   "cell_type": "code",
   "execution_count": 12,
   "id": "95514fae",
   "metadata": {},
   "outputs": [],
   "source": [
    "x_train = x_train.astype('float32')/255\n",
    "x_test = x_test.astype('float32')/255"
   ]
  },
  {
   "cell_type": "code",
   "execution_count": 13,
   "id": "8ef0caa4",
   "metadata": {},
   "outputs": [
    {
     "data": {
      "text/plain": [
       "(50000, 3072)"
      ]
     },
     "execution_count": 13,
     "metadata": {},
     "output_type": "execute_result"
    }
   ],
   "source": [
    "x_train.shape"
   ]
  },
  {
   "cell_type": "markdown",
   "id": "c5909d3b",
   "metadata": {},
   "source": [
    "# MODEL BUILDING"
   ]
  },
  {
   "cell_type": "code",
   "execution_count": 14,
   "id": "07497e4b",
   "metadata": {},
   "outputs": [],
   "source": [
    "from keras.models import Sequential\n",
    "from keras.layers import Dense"
   ]
  },
  {
   "cell_type": "code",
   "execution_count": 15,
   "id": "a6d5633c",
   "metadata": {},
   "outputs": [],
   "source": [
    "# ANN"
   ]
  },
  {
   "cell_type": "code",
   "execution_count": 16,
   "id": "62f26f79",
   "metadata": {},
   "outputs": [
    {
     "name": "stdout",
     "output_type": "stream",
     "text": [
      "Epoch 1/10\n",
      "1563/1563 [==============================] - 10s 6ms/step - loss: 1.9414 - accuracy: 0.3012 - val_loss: 1.9075 - val_accuracy: 0.3121\n",
      "Epoch 2/10\n",
      "1563/1563 [==============================] - 9s 6ms/step - loss: 1.7658 - accuracy: 0.3742 - val_loss: 1.7123 - val_accuracy: 0.4005\n",
      "Epoch 3/10\n",
      "1563/1563 [==============================] - 9s 6ms/step - loss: 1.6914 - accuracy: 0.4010 - val_loss: 1.6697 - val_accuracy: 0.4084\n",
      "Epoch 4/10\n",
      "1563/1563 [==============================] - 7s 5ms/step - loss: 1.6431 - accuracy: 0.4199 - val_loss: 1.6553 - val_accuracy: 0.4044\n",
      "Epoch 5/10\n",
      "1563/1563 [==============================] - 9s 6ms/step - loss: 1.6068 - accuracy: 0.4310 - val_loss: 1.6240 - val_accuracy: 0.4312\n",
      "Epoch 6/10\n",
      "1563/1563 [==============================] - 8s 5ms/step - loss: 1.5787 - accuracy: 0.4438 - val_loss: 1.6175 - val_accuracy: 0.4221\n",
      "Epoch 7/10\n",
      "1563/1563 [==============================] - 10s 7ms/step - loss: 1.5550 - accuracy: 0.4514 - val_loss: 1.5487 - val_accuracy: 0.4513\n",
      "Epoch 8/10\n",
      "1563/1563 [==============================] - 11s 7ms/step - loss: 1.5368 - accuracy: 0.4580 - val_loss: 1.5729 - val_accuracy: 0.4443\n",
      "Epoch 9/10\n",
      "1563/1563 [==============================] - 10s 7ms/step - loss: 1.5197 - accuracy: 0.4642 - val_loss: 1.5152 - val_accuracy: 0.4626\n",
      "Epoch 10/10\n",
      "1563/1563 [==============================] - 7s 5ms/step - loss: 1.5039 - accuracy: 0.4705 - val_loss: 1.5262 - val_accuracy: 0.4620\n"
     ]
    }
   ],
   "source": [
    "ANN_model = Sequential()\n",
    "ANN_model.add(Dense(50, activation = 'relu', input_shape = (3072,)))\n",
    "ANN_model.add(Dense(10, activation = 'softmax'))\n",
    "ANN_model.compile(loss = 'categorical_crossentropy', optimizer = 'sgd', metrics = ['accuracy'])\n",
    "ANN = ANN_model.fit(x_train, y_train, validation_data = (x_test, y_test), epochs = 10)"
   ]
  },
  {
   "cell_type": "code",
   "execution_count": 17,
   "id": "53dbcafc",
   "metadata": {},
   "outputs": [],
   "source": [
    "import matplotlib.pyplot as plt"
   ]
  },
  {
   "cell_type": "code",
   "execution_count": 18,
   "id": "f208c4df",
   "metadata": {},
   "outputs": [
    {
     "data": {
      "text/plain": [
       "[<matplotlib.lines.Line2D at 0x203d40685b0>]"
      ]
     },
     "execution_count": 18,
     "metadata": {},
     "output_type": "execute_result"
    },
    {
     "data": {
      "image/png": "[encoded data removed]",
      "text/plain": [
       "<Figure size 432x288 with 1 Axes>"
      ]
     },
     "metadata": {
      "needs_background": "light"
     },
     "output_type": "display_data"
    }
   ],
   "source": [
    "plt.plot(ANN.history['accuracy'])\n",
    "plt.plot(ANN.history['val_accuracy'])"
   ]
  },
  {
   "cell_type": "code",
   "execution_count": 19,
   "id": "46cf29bd",
   "metadata": {},
   "outputs": [],
   "source": [
    "# CNN"
   ]
  },
  {
   "cell_type": "code",
   "execution_count": 20,
   "id": "5ac3527d",
   "metadata": {},
   "outputs": [
    {
     "data": {
      "text/plain": [
       "(32, 32, 3)"
      ]
     },
     "execution_count": 20,
     "metadata": {},
     "output_type": "execute_result"
    }
   ],
   "source": [
    "# Reshaping\n",
    "x_train = x_train.reshape(50000, 32,32,3)\n",
    "x_test = x_test.reshape(10000, 32,32,3)\n",
    "x_train.shape[1:]"
   ]
  },
  {
   "cell_type": "code",
   "execution_count": 21,
   "id": "a98cc0ef",
   "metadata": {},
   "outputs": [],
   "source": [
    "from keras.layers import Conv2D, Dropout, Dense, MaxPooling2D, Flatten"
   ]
  },
  {
   "cell_type": "code",
   "execution_count": 25,
   "id": "4406c899",
   "metadata": {},
   "outputs": [
    {
     "name": "stdout",
     "output_type": "stream",
     "text": [
      "Epoch 1/5\n",
      "1563/1563 [==============================] - 162s 103ms/step - loss: 2.0672 - accuracy: 0.2483 - val_loss: 1.8654 - val_accuracy: 0.3711\n",
      "Epoch 2/5\n",
      "1563/1563 [==============================] - 160s 103ms/step - loss: 1.7931 - accuracy: 0.3491 - val_loss: 1.6309 - val_accuracy: 0.4297\n",
      "Epoch 3/5\n",
      "1563/1563 [==============================] - 158s 101ms/step - loss: 1.6641 - accuracy: 0.3805 - val_loss: 1.5097 - val_accuracy: 0.4640\n",
      "Epoch 4/5\n",
      "1563/1563 [==============================] - 159s 102ms/step - loss: 1.5927 - accuracy: 0.4019 - val_loss: 1.4842 - val_accuracy: 0.4760\n",
      "Epoch 5/5\n",
      "1563/1563 [==============================] - 159s 102ms/step - loss: 1.5375 - accuracy: 0.4251 - val_loss: 1.4137 - val_accuracy: 0.4979\n"
     ]
    }
   ],
   "source": [
    "CNN_model = Sequential()\n",
    "CNN_model.add(Conv2D(filters = 64, kernel_size = (3,3), padding = 'same',input_shape=x_train.shape[1:], activation = 'relu'))\n",
    "CNN_model.add(Conv2D(filters = 32, kernel_size = 3, activation = 'relu', padding = 'same'))\n",
    "CNN_model.add(MaxPooling2D(2))\n",
    "CNN_model.add(Dropout(0.2))\n",
    "\n",
    "\n",
    "CNN_model.add(Flatten())\n",
    "CNN_model.add(Dense(50, activation = 'softmax'))\n",
    "CNN_model.add(Dropout(0.2))\n",
    "CNN_model.add(Dense(10, activation = 'softmax'))\n",
    "\n",
    "CNN_model.compile(loss = 'categorical_crossentropy', optimizer = 'adam', metrics = ['accuracy'])\n",
    "CNN = CNN_model.fit(x_train, y_train, validation_data = (x_test, y_test), epochs = 5)"
   ]
  },
  {
   "cell_type": "code",
   "execution_count": 26,
   "id": "3e17514d",
   "metadata": {},
   "outputs": [
    {
     "data": {
      "image/png": "[encoded data removed]",
      "text/plain": [
       "<Figure size 432x288 with 1 Axes>"
      ]
     },
     "metadata": {
      "needs_background": "light"
     },
     "output_type": "display_data"
    }
   ],
   "source": [
    "plt.plot(CNN.history['accuracy'])\n",
    "plt.plot(CNN.history['val_accuracy'])\n",
    "plt.show()"
   ]
  },
  {
   "cell_type": "code",
   "execution_count": 30,
   "id": "976e063b",
   "metadata": {},
   "outputs": [
    {
     "data": {
      "text/plain": [
       "<matplotlib.image.AxesImage at 0x203ddc49790>"
      ]
     },
     "execution_count": 30,
     "metadata": {},
     "output_type": "execute_result"
    },
    {
     "data": {
      "image/png": "[encoded data removed]",
      "text/plain": [
       "<Figure size 432x288 with 1 Axes>"
      ]
     },
     "metadata": {
      "needs_background": "light"
     },
     "output_type": "display_data"
    }
   ],
   "source": [
    "my_image = x_test[5]\n",
    "plt.imshow(my_image)"
   ]
  },
  {
   "cell_type": "code",
   "execution_count": 31,
   "id": "e7a81a3f",
   "metadata": {},
   "outputs": [
    {
     "name": "stdout",
     "output_type": "stream",
     "text": [
      "1/1 [==============================] - 0s 59ms/step\n"
     ]
    },
    {
     "data": {
      "text/plain": [
       "6"
      ]
     },
     "execution_count": 31,
     "metadata": {},
     "output_type": "execute_result"
    }
   ],
   "source": [
    "# correctly predicted as a Horse\n",
    "np.argmax(CNN_model.predict(my_image.reshape(1, 32, 32, 3)))"
   ]
  },
  {
   "cell_type": "code",
   "execution_count": null,
   "id": "e114ead6",
   "metadata": {},
   "outputs": [],
   "source": []
  },
  {
   "cell_type": "code",
   "execution_count": null,
   "id": "bbb88c6a",
   "metadata": {},
   "outputs": [],
   "source": []
  },
  {
   "cell_type": "code",
   "execution_count": null,
   "id": "ffcf0d9c",
   "metadata": {},
   "outputs": [],
   "source": []
  },
  {
   "cell_type": "code",
   "execution_count": null,
   "id": "e3dd03e0",
   "metadata": {},
   "outputs": [],
   "source": []
  }
 ],
 "metadata": {
  "kernelspec": {
   "display_name": "Python 3 (ipykernel)",
   "language": "python",
   "name": "python3"
  },
  "language_info": {
   "codemirror_mode": {
    "name": "ipython",
    "version": 3
   },
   "file_extension": ".py",
   "mimetype": "text/x-python",
   "name": "python",
   "nbconvert_exporter": "python",
   "pygments_lexer": "ipython3",
   "version": "3.9.13"
  }
 },
 "nbformat": 4,
 "nbformat_minor": 5
}
