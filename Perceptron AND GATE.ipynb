{
 "cells": [
  {
   "cell_type": "code",
   "execution_count": 43,
   "id": "0d1f4ea8",
   "metadata": {},
   "outputs": [],
   "source": [
    "import numpy as np\n",
    "from math import exp # using sigmodial function\n",
    "from random import seed #\n",
    "from random import random"
   ]
  },
  {
   "cell_type": "markdown",
   "id": "f417dab5",
   "metadata": {},
   "source": [
    "## AND Gate"
   ]
  },
  {
   "cell_type": "code",
   "execution_count": 48,
   "id": "fdb35824",
   "metadata": {},
   "outputs": [
    {
     "name": "stdout",
     "output_type": "stream",
     "text": [
      "[[1, 1], [1, 0], [0, 1], [0, 0]]\n"
     ]
    }
   ],
   "source": [
    "seed(1) # binary input\n",
    "x = [[1,1],\n",
    "    [1,0],\n",
    "    [0,1],\n",
    "    [0,0]]\n",
    "print(x)"
   ]
  },
  {
   "cell_type": "code",
   "execution_count": 49,
   "id": "2e83608d",
   "metadata": {},
   "outputs": [
    {
     "name": "stdout",
     "output_type": "stream",
     "text": [
      "[ 1 -1 -1 -1]\n"
     ]
    }
   ],
   "source": [
    "#bipolar input\n",
    "t = np.array([1,-1,-1,-1])\n",
    "print(t)"
   ]
  },
  {
   "cell_type": "code",
   "execution_count": 50,
   "id": "82d448fb",
   "metadata": {},
   "outputs": [
    {
     "name": "stdout",
     "output_type": "stream",
     "text": [
      "[0. 0.]\n"
     ]
    }
   ],
   "source": [
    "#initialise weights\n",
    "w= np.zeros(2)\n",
    "print(w)\n",
    "b=0 #bias\n",
    "eta=1 #learning rate\n",
    "yin= np.array([0,0,0,0]) # tempoery output #dmension array"
   ]
  },
  {
   "cell_type": "code",
   "execution_count": 51,
   "id": "82ce17ce",
   "metadata": {},
   "outputs": [
    {
     "name": "stdout",
     "output_type": "stream",
     "text": [
      "x1  x2   w1   w2   b   y   t\n",
      "Epoch : 1\n",
      "1   1   1.0   1.0   1   -1   1\n",
      "1   0   0.0   1.0   0   1   -1\n",
      "0   1   0.0   0.0   -1   1   -1\n",
      "0   0   0.0   0.0   -1   -1   -1\n",
      "Epoch : 2\n",
      "1   1   1.0   1.0   0   -1   1\n",
      "1   0   0.0   1.0   -1   1   -1\n",
      "0   1   0.0   1.0   -1   -1   -1\n",
      "0   0   0.0   1.0   -1   -1   -1\n",
      "Epoch : 3\n",
      "1   1   1.0   2.0   0   -1   1\n",
      "1   0   0.0   2.0   -1   1   -1\n",
      "0   1   0.0   1.0   -2   1   -1\n",
      "0   0   0.0   1.0   -2   -1   -1\n",
      "Epoch : 4\n",
      "1   1   1.0   2.0   -1   -1   1\n",
      "1   0   1.0   2.0   -1   -1   -1\n",
      "0   1   1.0   1.0   -2   1   -1\n",
      "0   0   1.0   1.0   -2   -1   -1\n",
      "Epoch : 5\n",
      "1   1   2.0   2.0   -1   -1   1\n",
      "1   0   1.0   2.0   -2   1   -1\n",
      "0   1   1.0   2.0   -2   -1   -1\n",
      "0   0   1.0   2.0   -2   -1   -1\n",
      "Epoch : 6\n",
      "1   1   1.0   2.0   -2   1   1\n",
      "1   0   1.0   2.0   -2   -1   -1\n",
      "0   1   1.0   2.0   -2   -1   -1\n",
      "0   0   1.0   2.0   -2   -1   -1\n",
      "Epoch : 7\n",
      "1   1   1.0   2.0   -2   1   1\n",
      "1   0   1.0   2.0   -2   -1   -1\n",
      "0   1   1.0   2.0   -2   -1   -1\n",
      "0   0   1.0   2.0   -2   -1   -1\n"
     ]
    }
   ],
   "source": [
    "\n",
    "print('x1  x2   w1   w2   b   y   t') #y= output,t=target b=bias w=weight x= input\n",
    "for j in range(7): # epoch range\n",
    "    print('Epoch :',j+1)\n",
    "    for i in range(0,4):\n",
    "        yin[i] = b+(x[i][0] * w[0]) + (x[i][1]*w[1])\n",
    "        # if yin is greter than threshold value is 1 is otherwise it is 0 \n",
    "        yin[i] = np.where(yin[i]>0.2,1,-1)#threshold value = 0.2\n",
    "        #checking value with target\n",
    "        if(t[i] != yin[i]):\n",
    "            w[0] = w[0] +eta * x[i][0]*t[i]\n",
    "            w[1] = w[1] +eta * x[i][1]*t[i]\n",
    "            b= b + eta* t[i]\n",
    "        print( x[i][0], ' ' ,x[i][1], ' ',w[0], ' ' ,w[1], ' ' ,b, ' ' ,yin[i], ' ' ,t[i])"
   ]
  },
  {
   "cell_type": "code",
   "execution_count": null,
   "id": "0340bed7",
   "metadata": {},
   "outputs": [],
   "source": []
  },
  {
   "cell_type": "code",
   "execution_count": null,
   "id": "c801afe9",
   "metadata": {},
   "outputs": [],
   "source": []
  }
 ],
 "metadata": {
  "kernelspec": {
   "display_name": "Python 3 (ipykernel)",
   "language": "python",
   "name": "python3"
  },
  "language_info": {
   "codemirror_mode": {
    "name": "ipython",
    "version": 3
   },
   "file_extension": ".py",
   "mimetype": "text/x-python",
   "name": "python",
   "nbconvert_exporter": "python",
   "pygments_lexer": "ipython3",
   "version": "3.9.7"
  }
 },
 "nbformat": 4,
 "nbformat_minor": 5
}
