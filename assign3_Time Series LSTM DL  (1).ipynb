{
 "cells": [
  {
   "cell_type": "code",
   "execution_count": 229,
   "id": "2b72af79",
   "metadata": {},
   "outputs": [],
   "source": [
    "# Importing libraries\n",
    "import numpy as np\n",
    "import pandas as pd\n",
    "from sklearn.preprocessing import StandardScaler\n",
    "from tensorflow.keras.models import Sequential\n",
    "from tensorflow.keras.layers import LSTM\n",
    "from tensorflow.keras.layers import Dense, Dropout"
   ]
  },
  {
   "cell_type": "code",
   "execution_count": 230,
   "id": "74eaf210",
   "metadata": {},
   "outputs": [],
   "source": [
    "# loading data set\n",
    "stock = pd.read_csv(r\"C:\\Users\\asbid\\Downloads\\stock.csv\")"
   ]
  },
  {
   "cell_type": "code",
   "execution_count": 231,
   "id": "af8fdacd",
   "metadata": {},
   "outputs": [
    {
     "data": {
      "text/html": [
       "<div>\n",
       "<style scoped>\n",
       "    .dataframe tbody tr th:only-of-type {\n",
       "        vertical-align: middle;\n",
       "    }\n",
       "\n",
       "    .dataframe tbody tr th {\n",
       "        vertical-align: top;\n",
       "    }\n",
       "\n",
       "    .dataframe thead th {\n",
       "        text-align: right;\n",
       "    }\n",
       "</style>\n",
       "<table border=\"1\" class=\"dataframe\">\n",
       "  <thead>\n",
       "    <tr style=\"text-align: right;\">\n",
       "      <th></th>\n",
       "      <th>Date</th>\n",
       "      <th>Open</th>\n",
       "      <th>High</th>\n",
       "      <th>Low</th>\n",
       "      <th>Close</th>\n",
       "      <th>Volume</th>\n",
       "      <th>Dividends</th>\n",
       "      <th>Stock Splits</th>\n",
       "    </tr>\n",
       "  </thead>\n",
       "  <tbody>\n",
       "    <tr>\n",
       "      <th>0</th>\n",
       "      <td>2017-01-26</td>\n",
       "      <td>26.624082</td>\n",
       "      <td>27.129914</td>\n",
       "      <td>26.327984</td>\n",
       "      <td>27.055891</td>\n",
       "      <td>45880000</td>\n",
       "      <td>0.0</td>\n",
       "      <td>0.0</td>\n",
       "    </tr>\n",
       "    <tr>\n",
       "      <th>1</th>\n",
       "      <td>2017-01-27</td>\n",
       "      <td>27.124978</td>\n",
       "      <td>27.608603</td>\n",
       "      <td>26.858490</td>\n",
       "      <td>27.578993</td>\n",
       "      <td>47199600</td>\n",
       "      <td>0.0</td>\n",
       "      <td>0.0</td>\n",
       "    </tr>\n",
       "    <tr>\n",
       "      <th>2</th>\n",
       "      <td>2017-01-30</td>\n",
       "      <td>27.369262</td>\n",
       "      <td>27.391470</td>\n",
       "      <td>26.626552</td>\n",
       "      <td>27.147188</td>\n",
       "      <td>49600400</td>\n",
       "      <td>0.0</td>\n",
       "      <td>0.0</td>\n",
       "    </tr>\n",
       "    <tr>\n",
       "      <th>3</th>\n",
       "      <td>2017-01-31</td>\n",
       "      <td>26.883162</td>\n",
       "      <td>27.154586</td>\n",
       "      <td>26.698101</td>\n",
       "      <td>26.939915</td>\n",
       "      <td>36275600</td>\n",
       "      <td>0.0</td>\n",
       "      <td>0.0</td>\n",
       "    </tr>\n",
       "    <tr>\n",
       "      <th>4</th>\n",
       "      <td>2017-02-01</td>\n",
       "      <td>27.285365</td>\n",
       "      <td>28.158852</td>\n",
       "      <td>27.107706</td>\n",
       "      <td>28.116903</td>\n",
       "      <td>59000400</td>\n",
       "      <td>0.0</td>\n",
       "      <td>0.0</td>\n",
       "    </tr>\n",
       "  </tbody>\n",
       "</table>\n",
       "</div>"
      ],
      "text/plain": [
       "         Date       Open       High        Low      Close    Volume  \\\n",
       "0  2017-01-26  26.624082  27.129914  26.327984  27.055891  45880000   \n",
       "1  2017-01-27  27.124978  27.608603  26.858490  27.578993  47199600   \n",
       "2  2017-01-30  27.369262  27.391470  26.626552  27.147188  49600400   \n",
       "3  2017-01-31  26.883162  27.154586  26.698101  26.939915  36275600   \n",
       "4  2017-02-01  27.285365  28.158852  27.107706  28.116903  59000400   \n",
       "\n",
       "   Dividends  Stock Splits  \n",
       "0        0.0           0.0  \n",
       "1        0.0           0.0  \n",
       "2        0.0           0.0  \n",
       "3        0.0           0.0  \n",
       "4        0.0           0.0  "
      ]
     },
     "execution_count": 231,
     "metadata": {},
     "output_type": "execute_result"
    }
   ],
   "source": [
    "stock.head()"
   ]
  },
  {
   "cell_type": "code",
   "execution_count": 232,
   "id": "d53477e6",
   "metadata": {},
   "outputs": [
    {
     "name": "stdout",
     "output_type": "stream",
     "text": [
      "<class 'pandas.core.frame.DataFrame'>\n",
      "RangeIndex: 1259 entries, 0 to 1258\n",
      "Data columns (total 8 columns):\n",
      " #   Column        Non-Null Count  Dtype  \n",
      "---  ------        --------------  -----  \n",
      " 0   Date          1259 non-null   object \n",
      " 1   Open          1259 non-null   float64\n",
      " 2   High          1259 non-null   float64\n",
      " 3   Low           1259 non-null   float64\n",
      " 4   Close         1259 non-null   float64\n",
      " 5   Volume        1259 non-null   int64  \n",
      " 6   Dividends     1259 non-null   float64\n",
      " 7   Stock Splits  1259 non-null   float64\n",
      "dtypes: float64(6), int64(1), object(1)\n",
      "memory usage: 78.8+ KB\n"
     ]
    }
   ],
   "source": [
    "#checking datatype\n",
    "stock.info()"
   ]
  },
  {
   "cell_type": "code",
   "execution_count": 233,
   "id": "8e9f9e84",
   "metadata": {},
   "outputs": [
    {
     "data": {
      "text/plain": [
       "1254   2022-01-19\n",
       "1255   2022-01-20\n",
       "1256   2022-01-21\n",
       "1257   2022-01-24\n",
       "1258   2022-01-25\n",
       "Name: Date, dtype: datetime64[ns]"
      ]
     },
     "execution_count": 233,
     "metadata": {},
     "output_type": "execute_result"
    }
   ],
   "source": [
    "# Changing dtype of date to datetime\n",
    "dates = pd.to_datetime(stock['Date'])\n",
    "dates.tail()"
   ]
  },
  {
   "cell_type": "code",
   "execution_count": 234,
   "id": "c1a191fe",
   "metadata": {},
   "outputs": [
    {
     "data": {
      "text/plain": [
       "Date            0\n",
       "Open            0\n",
       "High            0\n",
       "Low             0\n",
       "Close           0\n",
       "Volume          0\n",
       "Dividends       0\n",
       "Stock Splits    0\n",
       "dtype: int64"
      ]
     },
     "execution_count": 234,
     "metadata": {},
     "output_type": "execute_result"
    }
   ],
   "source": [
    "# checking for null values\n",
    "stock.isnull().sum()"
   ]
  },
  {
   "cell_type": "code",
   "execution_count": 235,
   "id": "b024b647",
   "metadata": {},
   "outputs": [
    {
     "name": "stdout",
     "output_type": "stream",
     "text": [
      "843 416\n"
     ]
    }
   ],
   "source": [
    "# split into train and test sets\n",
    "train_size = int(len(stock) * 0.67)\n",
    "test_size = len(stock) - train_size\n",
    "train, test = stock[0:train_size], stock[train_size:len(stock)]\n",
    "print(len(train), len(test))"
   ]
  },
  {
   "cell_type": "code",
   "execution_count": null,
   "id": "4c577ebf",
   "metadata": {},
   "outputs": [],
   "source": []
  },
  {
   "cell_type": "code",
   "execution_count": 236,
   "id": "7ac62a7f",
   "metadata": {},
   "outputs": [
    {
     "data": {
      "text/html": [
       "<div>\n",
       "<style scoped>\n",
       "    .dataframe tbody tr th:only-of-type {\n",
       "        vertical-align: middle;\n",
       "    }\n",
       "\n",
       "    .dataframe tbody tr th {\n",
       "        vertical-align: top;\n",
       "    }\n",
       "\n",
       "    .dataframe thead th {\n",
       "        text-align: right;\n",
       "    }\n",
       "</style>\n",
       "<table border=\"1\" class=\"dataframe\">\n",
       "  <thead>\n",
       "    <tr style=\"text-align: right;\">\n",
       "      <th></th>\n",
       "      <th>Open</th>\n",
       "      <th>High</th>\n",
       "      <th>Low</th>\n",
       "      <th>Close</th>\n",
       "    </tr>\n",
       "  </thead>\n",
       "  <tbody>\n",
       "    <tr>\n",
       "      <th>0</th>\n",
       "      <td>26.624082</td>\n",
       "      <td>27.129914</td>\n",
       "      <td>26.327984</td>\n",
       "      <td>27.055891</td>\n",
       "    </tr>\n",
       "    <tr>\n",
       "      <th>1</th>\n",
       "      <td>27.124978</td>\n",
       "      <td>27.608603</td>\n",
       "      <td>26.858490</td>\n",
       "      <td>27.578993</td>\n",
       "    </tr>\n",
       "    <tr>\n",
       "      <th>2</th>\n",
       "      <td>27.369262</td>\n",
       "      <td>27.391470</td>\n",
       "      <td>26.626552</td>\n",
       "      <td>27.147188</td>\n",
       "    </tr>\n",
       "    <tr>\n",
       "      <th>3</th>\n",
       "      <td>26.883162</td>\n",
       "      <td>27.154586</td>\n",
       "      <td>26.698101</td>\n",
       "      <td>26.939915</td>\n",
       "    </tr>\n",
       "    <tr>\n",
       "      <th>4</th>\n",
       "      <td>27.285365</td>\n",
       "      <td>28.158852</td>\n",
       "      <td>27.107706</td>\n",
       "      <td>28.116903</td>\n",
       "    </tr>\n",
       "  </tbody>\n",
       "</table>\n",
       "</div>"
      ],
      "text/plain": [
       "        Open       High        Low      Close\n",
       "0  26.624082  27.129914  26.327984  27.055891\n",
       "1  27.124978  27.608603  26.858490  27.578993\n",
       "2  27.369262  27.391470  26.626552  27.147188\n",
       "3  26.883162  27.154586  26.698101  26.939915\n",
       "4  27.285365  28.158852  27.107706  28.116903"
      ]
     },
     "execution_count": 236,
     "metadata": {},
     "output_type": "execute_result"
    }
   ],
   "source": [
    "#creating training df\n",
    "training_df = train.drop(['Date','Volume','Dividends','Stock Splits'],axis = 1)\n",
    "training_df.head()"
   ]
  },
  {
   "cell_type": "code",
   "execution_count": 237,
   "id": "25eeb7a9",
   "metadata": {},
   "outputs": [
    {
     "data": {
      "text/plain": [
       "(843, 4)"
      ]
     },
     "execution_count": 237,
     "metadata": {},
     "output_type": "execute_result"
    }
   ],
   "source": [
    "training_df.shape"
   ]
  },
  {
   "cell_type": "code",
   "execution_count": 238,
   "id": "773617ea",
   "metadata": {},
   "outputs": [],
   "source": [
    "#Scaling\n",
    "scaler = StandardScaler()\n",
    "scaler = scaler.fit(training_df)\n",
    "training_df_scaled = scaler.transform(training_df)"
   ]
  },
  {
   "cell_type": "code",
   "execution_count": 239,
   "id": "1c9ecb59",
   "metadata": {},
   "outputs": [
    {
     "data": {
      "text/plain": [
       "array([[-1.67064966, -1.66258311, -1.65733853, -1.63589517],\n",
       "       [-1.63354768, -1.62774494, -1.617402  , -1.59723295],\n",
       "       [-1.61545328, -1.64354754, -1.63486229, -1.62914744],\n",
       "       ...,\n",
       "       [ 2.68152062,  2.80997097,  2.73592728,  2.91164982],\n",
       "       [ 2.88759716,  2.78472915,  2.88957878,  2.86056577],\n",
       "       [ 2.86024431,  2.78218702,  2.86591201,  2.87458227]])"
      ]
     },
     "execution_count": 239,
     "metadata": {},
     "output_type": "execute_result"
    }
   ],
   "source": [
    "training_df_scaled"
   ]
  },
  {
   "cell_type": "code",
   "execution_count": 240,
   "id": "e6da5669",
   "metadata": {},
   "outputs": [
    {
     "data": {
      "text/plain": [
       "(843, 4)"
      ]
     },
     "execution_count": 240,
     "metadata": {},
     "output_type": "execute_result"
    }
   ],
   "source": [
    "training_df_scaled.shape"
   ]
  },
  {
   "cell_type": "code",
   "execution_count": 241,
   "id": "b42caeaa",
   "metadata": {},
   "outputs": [
    {
     "data": {
      "text/plain": [
       "843"
      ]
     },
     "execution_count": 241,
     "metadata": {},
     "output_type": "execute_result"
    }
   ],
   "source": [
    "len(training_df_scaled)"
   ]
  },
  {
   "cell_type": "code",
   "execution_count": 242,
   "id": "03d53094",
   "metadata": {},
   "outputs": [
    {
     "data": {
      "text/plain": [
       "array([[-1.67064966, -1.66258311, -1.65733853, -1.63589517],\n",
       "       [-1.63354768, -1.62774494, -1.617402  , -1.59723295],\n",
       "       [-1.61545328, -1.64354754, -1.63486229, -1.62914744],\n",
       "       ...,\n",
       "       [ 2.68152062,  2.80997097,  2.73592728,  2.91164982],\n",
       "       [ 2.88759716,  2.78472915,  2.88957878,  2.86056577],\n",
       "       [ 2.86024431,  2.78218702,  2.86591201,  2.87458227]])"
      ]
     },
     "execution_count": 242,
     "metadata": {},
     "output_type": "execute_result"
    }
   ],
   "source": [
    "training_df_scaled"
   ]
  },
  {
   "cell_type": "code",
   "execution_count": 243,
   "id": "d3315a6e",
   "metadata": {},
   "outputs": [],
   "source": [
    "#Splitting dataset\n",
    "n_future = 1\n",
    "n_past = 14"
   ]
  },
  {
   "cell_type": "code",
   "execution_count": 244,
   "id": "09c80972",
   "metadata": {},
   "outputs": [],
   "source": [
    "X_train = []\n",
    "y_train = []"
   ]
  },
  {
   "cell_type": "code",
   "execution_count": 248,
   "id": "8defb51a",
   "metadata": {},
   "outputs": [],
   "source": [
    "for i in range(n_past, len(training_df_scaled) - n_future +1):\n",
    "    X_train.append(training_df_scaled[i - n_past:i, 0:training_df_scaled.shape[1]])\n",
    "    y_train.append(training_df_scaled[i + n_future - 1:i + n_future, 0])\n",
    "\n",
    "X_train, y_train  = np.array(X_train), np.array(y_train)"
   ]
  },
  {
   "cell_type": "code",
   "execution_count": null,
   "id": "24dd759b",
   "metadata": {},
   "outputs": [],
   "source": []
  },
  {
   "cell_type": "code",
   "execution_count": 249,
   "id": "9f208355",
   "metadata": {},
   "outputs": [
    {
     "data": {
      "text/plain": [
       "(829, 14, 4)"
      ]
     },
     "execution_count": 249,
     "metadata": {},
     "output_type": "execute_result"
    }
   ],
   "source": [
    "X_train.shape"
   ]
  },
  {
   "cell_type": "code",
   "execution_count": 250,
   "id": "3b4c1da3",
   "metadata": {},
   "outputs": [
    {
     "data": {
      "text/plain": [
       "(829, 14, 4)"
      ]
     },
     "execution_count": 250,
     "metadata": {},
     "output_type": "execute_result"
    }
   ],
   "source": [
    "X_train.shape"
   ]
  },
  {
   "cell_type": "code",
   "execution_count": 251,
   "id": "1f6bc2e8",
   "metadata": {},
   "outputs": [
    {
     "data": {
      "text/plain": [
       "(829, 1)"
      ]
     },
     "execution_count": 251,
     "metadata": {},
     "output_type": "execute_result"
    }
   ],
   "source": [
    "y_train.shape"
   ]
  },
  {
   "cell_type": "code",
   "execution_count": 252,
   "id": "af9ed7a3",
   "metadata": {},
   "outputs": [
    {
     "name": "stdout",
     "output_type": "stream",
     "text": [
      "Model: \"sequential_9\"\n",
      "_________________________________________________________________\n",
      " Layer (type)                Output Shape              Param #   \n",
      "=================================================================\n",
      " lstm_9 (LSTM)               (None, 64)                17664     \n",
      "                                                                 \n",
      " dropout_9 (Dropout)         (None, 64)                0         \n",
      "                                                                 \n",
      " dense_7 (Dense)             (None, 1)                 65        \n",
      "                                                                 \n",
      "=================================================================\n",
      "Total params: 17,729\n",
      "Trainable params: 17,729\n",
      "Non-trainable params: 0\n",
      "_________________________________________________________________\n"
     ]
    }
   ],
   "source": [
    "#defining a model\n",
    "model = Sequential()\n",
    "model.add(LSTM(64, activation='relu', input_shape=(X_train.shape[1:]), return_sequences=False))\n",
    "#model.add(LSTM(32, activation='relu', return_sequences=False))\n",
    "model.add(Dropout(0.2))\n",
    "model.add(Dense(1))\n",
    "\n",
    "model.compile(optimizer='adam', loss='mse',metrics = ['Accuracy'])\n",
    "model.summary()"
   ]
  },
  {
   "cell_type": "code",
   "execution_count": 253,
   "id": "014241a2",
   "metadata": {},
   "outputs": [
    {
     "name": "stdout",
     "output_type": "stream",
     "text": [
      "Epoch 1/5\n",
      "47/47 [==============================] - 1s 7ms/step - loss: 0.2487 - Accuracy: 0.0000e+00 - val_loss: 0.1047 - val_Accuracy: 0.0000e+00\n",
      "Epoch 2/5\n",
      "47/47 [==============================] - 0s 4ms/step - loss: 0.0364 - Accuracy: 0.0000e+00 - val_loss: 0.0818 - val_Accuracy: 0.0000e+00\n",
      "Epoch 3/5\n",
      "47/47 [==============================] - 0s 4ms/step - loss: 0.0303 - Accuracy: 0.0000e+00 - val_loss: 0.0706 - val_Accuracy: 0.0000e+00\n",
      "Epoch 4/5\n",
      "47/47 [==============================] - 0s 4ms/step - loss: 0.0264 - Accuracy: 0.0000e+00 - val_loss: 0.0738 - val_Accuracy: 0.0000e+00\n",
      "Epoch 5/5\n",
      "47/47 [==============================] - 0s 4ms/step - loss: 0.0267 - Accuracy: 0.0000e+00 - val_loss: 0.0632 - val_Accuracy: 0.0000e+00\n"
     ]
    }
   ],
   "source": [
    "# fit the model\n",
    "history = model.fit(X_train, y_train, epochs=5, batch_size=16, validation_split=0.1, verbose=1)"
   ]
  },
  {
   "cell_type": "code",
   "execution_count": 254,
   "id": "9c5acb58",
   "metadata": {},
   "outputs": [
    {
     "data": {
      "text/plain": [
       "<matplotlib.legend.Legend at 0x250dc55efd0>"
      ]
     },
     "execution_count": 254,
     "metadata": {},
     "output_type": "execute_result"
    },
    {
     "data": {
      "image/png": "[encoded data removed]",
      "text/plain": [
       "<Figure size 640x480 with 1 Axes>"
      ]
     },
     "metadata": {},
     "output_type": "display_data"
    }
   ],
   "source": [
    "#Plotting lot\n",
    "import matplotlib.pyplot as plt\n",
    "plt.plot(history.history['loss'], label='Training loss')\n",
    "plt.plot(history.history['val_loss'], label='Validation loss')\n",
    "plt.legend()"
   ]
  },
  {
   "cell_type": "code",
   "execution_count": 255,
   "id": "2b65b91d",
   "metadata": {},
   "outputs": [
    {
     "data": {
      "text/html": [
       "<div>\n",
       "<style scoped>\n",
       "    .dataframe tbody tr th:only-of-type {\n",
       "        vertical-align: middle;\n",
       "    }\n",
       "\n",
       "    .dataframe tbody tr th {\n",
       "        vertical-align: top;\n",
       "    }\n",
       "\n",
       "    .dataframe thead th {\n",
       "        text-align: right;\n",
       "    }\n",
       "</style>\n",
       "<table border=\"1\" class=\"dataframe\">\n",
       "  <thead>\n",
       "    <tr style=\"text-align: right;\">\n",
       "      <th></th>\n",
       "      <th>Open</th>\n",
       "      <th>High</th>\n",
       "      <th>Low</th>\n",
       "      <th>Close</th>\n",
       "    </tr>\n",
       "  </thead>\n",
       "  <tbody>\n",
       "    <tr>\n",
       "      <th>843</th>\n",
       "      <td>88.052941</td>\n",
       "      <td>88.492090</td>\n",
       "      <td>86.832787</td>\n",
       "      <td>87.526451</td>\n",
       "    </tr>\n",
       "    <tr>\n",
       "      <th>844</th>\n",
       "      <td>87.152008</td>\n",
       "      <td>89.301356</td>\n",
       "      <td>86.647751</td>\n",
       "      <td>87.536446</td>\n",
       "    </tr>\n",
       "    <tr>\n",
       "      <th>845</th>\n",
       "      <td>87.816027</td>\n",
       "      <td>89.838058</td>\n",
       "      <td>86.952297</td>\n",
       "      <td>89.069183</td>\n",
       "    </tr>\n",
       "    <tr>\n",
       "      <th>846</th>\n",
       "      <td>88.642320</td>\n",
       "      <td>88.767136</td>\n",
       "      <td>86.730127</td>\n",
       "      <td>87.920883</td>\n",
       "    </tr>\n",
       "    <tr>\n",
       "      <th>847</th>\n",
       "      <td>87.870948</td>\n",
       "      <td>90.963909</td>\n",
       "      <td>87.384160</td>\n",
       "      <td>90.327339</td>\n",
       "    </tr>\n",
       "  </tbody>\n",
       "</table>\n",
       "</div>"
      ],
      "text/plain": [
       "          Open       High        Low      Close\n",
       "843  88.052941  88.492090  86.832787  87.526451\n",
       "844  87.152008  89.301356  86.647751  87.536446\n",
       "845  87.816027  89.838058  86.952297  89.069183\n",
       "846  88.642320  88.767136  86.730127  87.920883\n",
       "847  87.870948  90.963909  87.384160  90.327339"
      ]
     },
     "execution_count": 255,
     "metadata": {},
     "output_type": "execute_result"
    }
   ],
   "source": [
    "test_df = test.drop(['Date','Volume','Dividends','Stock Splits'],axis = 1)\n",
    "test_df.head()"
   ]
  },
  {
   "cell_type": "code",
   "execution_count": 256,
   "id": "29f6f09b",
   "metadata": {},
   "outputs": [],
   "source": [
    "test_df=scaler.fit_transform(test_df)"
   ]
  },
  {
   "cell_type": "code",
   "execution_count": 257,
   "id": "8c6a13de",
   "metadata": {},
   "outputs": [],
   "source": [
    "n_future=1\n",
    "n_past=14\n",
    "x_test=[]\n",
    "y_test=[]\n",
    "for i in range(n_past,len(test_df)-n_future+1):\n",
    "  x_test.append(test_df[i-n_past:i,0:test_df.shape[1]])\n",
    "  y_test.append(test_df[i+n_future-1:i+n_future,3])\n",
    "  \n",
    "x_test,y_test = np.array(x_test),np.array(y_test)"
   ]
  },
  {
   "cell_type": "code",
   "execution_count": 258,
   "id": "6640892d",
   "metadata": {},
   "outputs": [
    {
     "name": "stdout",
     "output_type": "stream",
     "text": [
      "13/13 [==============================] - 0s 2ms/step\n",
      "26/26 [==============================] - 0s 2ms/step\n"
     ]
    }
   ],
   "source": [
    "y_pred=model.predict(x_test)\n",
    "y_pred_train=model.predict(X_train)"
   ]
  },
  {
   "cell_type": "code",
   "execution_count": 259,
   "id": "8182b0b0",
   "metadata": {},
   "outputs": [
    {
     "data": {
      "text/plain": [
       "(402, 1)"
      ]
     },
     "execution_count": 259,
     "metadata": {},
     "output_type": "execute_result"
    }
   ],
   "source": [
    "y_pred.shape"
   ]
  },
  {
   "cell_type": "code",
   "execution_count": 264,
   "id": "a69490bf",
   "metadata": {},
   "outputs": [
    {
     "name": "stdout",
     "output_type": "stream",
     "text": [
      "Train Score: 0.41 RMSE\n"
     ]
    }
   ],
   "source": [
    "from sklearn.metrics import accuracy_score,mean_squared_error\n",
    "trainScore = math.sqrt(mean_squared_error(y_train[0], y_pred[0]))\n",
    "print('Train Score: %.2f RMSE' % (trainScore))"
   ]
  },
  {
   "cell_type": "code",
   "execution_count": 266,
   "id": "7f6ceb8a",
   "metadata": {},
   "outputs": [
    {
     "name": "stdout",
     "output_type": "stream",
     "text": [
      "13/13 [==============================] - 0s 2ms/step - loss: 0.0136 - Accuracy: 0.0000e+00\n"
     ]
    },
    {
     "data": {
      "text/plain": [
       "[0.013550635427236557, 0.0]"
      ]
     },
     "execution_count": 266,
     "metadata": {},
     "output_type": "execute_result"
    }
   ],
   "source": [
    "model.evaluate(x_test,y_test)"
   ]
  },
  {
   "cell_type": "code",
   "execution_count": null,
   "id": "313725cd",
   "metadata": {},
   "outputs": [],
   "source": []
  }
 ],
 "metadata": {
  "kernelspec": {
   "display_name": "Python 3 (ipykernel)",
   "language": "python",
   "name": "python3"
  },
  "language_info": {
   "codemirror_mode": {
    "name": "ipython",
    "version": 3
   },
   "file_extension": ".py",
   "mimetype": "text/x-python",
   "name": "python",
   "nbconvert_exporter": "python",
   "pygments_lexer": "ipython3",
   "version": "3.9.7"
  }
 },
 "nbformat": 4,
 "nbformat_minor": 5
}
