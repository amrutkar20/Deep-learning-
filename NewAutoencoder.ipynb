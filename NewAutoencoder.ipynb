{
 "cells": [
  {
   "cell_type": "code",
   "execution_count": 1,
   "id": "ed80d0fd",
   "metadata": {},
   "outputs": [],
   "source": [
    "from keras.models import Sequential \n",
    "from keras.layers import Dense,Conv2D,MaxPooling2D,UpSampling2D\n",
    "from keras import Input, Model\n",
    "from keras.datasets import mnist\n",
    "\n",
    "import numpy as np\n",
    "import matplotlib.pyplot as plt"
   ]
  },
  {
   "cell_type": "code",
   "execution_count": 2,
   "id": "0be3611a",
   "metadata": {},
   "outputs": [],
   "source": [
    "# defining autoencoder\n",
    "encoding_dim = 5\n",
    "input_img = Input(shape=(784,)) # input 784 = 28*28\n",
    "encoded = Dense(encoding_dim, activation='relu')(input_img) #encoder layer\n",
    "decoded = Dense(784, activation='sigmoid')(encoded) # decoder layer\n",
    "autoencoder = Model(input_img, decoded) # autoencoder"
   ]
  },
  {
   "cell_type": "code",
   "execution_count": 3,
   "id": "25c069d5",
   "metadata": {},
   "outputs": [
    {
     "name": "stdout",
     "output_type": "stream",
     "text": [
      "Model: \"model\"\n",
      "_________________________________________________________________\n",
      " Layer (type)                Output Shape              Param #   \n",
      "=================================================================\n",
      " input_1 (InputLayer)        [(None, 784)]             0         \n",
      "                                                                 \n",
      " dense (Dense)               (None, 5)                 3925      \n",
      "                                                                 \n",
      " dense_1 (Dense)             (None, 784)               4704      \n",
      "                                                                 \n",
      "=================================================================\n",
      "Total params: 8,629\n",
      "Trainable params: 8,629\n",
      "Non-trainable params: 0\n",
      "_________________________________________________________________\n"
     ]
    }
   ],
   "source": [
    "autoencoder.summary()"
   ]
  },
  {
   "cell_type": "code",
   "execution_count": 4,
   "id": "fda8e082",
   "metadata": {},
   "outputs": [],
   "source": [
    "encoder_layer = autoencoder.layers[-2] #  seperate encoder layer\n",
    "\n",
    "encoder = Model(input_img, encoder_layer(input_img)) # seperate encoder model\n",
    "\n",
    "encoded_input = Input(shape=(encoding_dim,)) # encoded input for decoder \n",
    "\n",
    "decoder_layer = autoencoder.layers[-1] # seperate decoder layer\n",
    "\n",
    "decoder = Model(encoded_input, decoder_layer(encoded_input)) # seperate decoder layer"
   ]
  },
  {
   "cell_type": "code",
   "execution_count": 5,
   "id": "5fbad5e5",
   "metadata": {},
   "outputs": [
    {
     "name": "stdout",
     "output_type": "stream",
     "text": [
      "Model: \"model_1\"\n",
      "_________________________________________________________________\n",
      " Layer (type)                Output Shape              Param #   \n",
      "=================================================================\n",
      " input_1 (InputLayer)        [(None, 784)]             0         \n",
      "                                                                 \n",
      " dense (Dense)               (None, 5)                 3925      \n",
      "                                                                 \n",
      "=================================================================\n",
      "Total params: 3,925\n",
      "Trainable params: 3,925\n",
      "Non-trainable params: 0\n",
      "_________________________________________________________________\n"
     ]
    }
   ],
   "source": [
    "encoder.summary()"
   ]
  },
  {
   "cell_type": "code",
   "execution_count": 6,
   "id": "39fc7bcb",
   "metadata": {},
   "outputs": [
    {
     "name": "stdout",
     "output_type": "stream",
     "text": [
      "Model: \"model_2\"\n",
      "_________________________________________________________________\n",
      " Layer (type)                Output Shape              Param #   \n",
      "=================================================================\n",
      " input_2 (InputLayer)        [(None, 5)]               0         \n",
      "                                                                 \n",
      " dense_1 (Dense)             (None, 784)               4704      \n",
      "                                                                 \n",
      "=================================================================\n",
      "Total params: 4,704\n",
      "Trainable params: 4,704\n",
      "Non-trainable params: 0\n",
      "_________________________________________________________________\n"
     ]
    }
   ],
   "source": [
    "decoder.summary()"
   ]
  },
  {
   "cell_type": "code",
   "execution_count": 7,
   "id": "f97d99c6",
   "metadata": {},
   "outputs": [],
   "source": [
    "autoencoder.compile(optimizer='adam', loss='binary_crossentropy')"
   ]
  },
  {
   "cell_type": "code",
   "execution_count": 8,
   "id": "6e35cef3",
   "metadata": {},
   "outputs": [],
   "source": [
    "(x_train, y_train), (x_test, y_test) = mnist.load_data()"
   ]
  },
  {
   "cell_type": "code",
   "execution_count": 9,
   "id": "f4ff6d20",
   "metadata": {},
   "outputs": [
    {
     "name": "stdout",
     "output_type": "stream",
     "text": [
      "(60000, 784)\n",
      "(10000, 784)\n"
     ]
    }
   ],
   "source": [
    "# changing datatype\n",
    "x_train = x_train.astype('float32') / 255.\n",
    "x_test = x_test.astype('float32') / 255.\n",
    "# reshape\n",
    "x_train = x_train.reshape((len(x_train), np.prod(x_train.shape[1:]))) # shape = (no of obs , 28*28)\n",
    "x_test = x_test.reshape((len(x_test), np.prod(x_test.shape[1:]))) # shape = (no of obs ,28*28)\n",
    "print(x_train.shape)\n",
    "print(x_test.shape)"
   ]
  },
  {
   "cell_type": "code",
   "execution_count": 10,
   "id": "f3c1e662",
   "metadata": {},
   "outputs": [
    {
     "data": {
      "text/plain": [
       "<matplotlib.image.AxesImage at 0x23b0005f040>"
      ]
     },
     "execution_count": 10,
     "metadata": {},
     "output_type": "execute_result"
    },
    {
     "data": {
      "image/png": "[encoded data removed]",
      "text/plain": [
       "<Figure size 640x480 with 1 Axes>"
      ]
     },
     "metadata": {},
     "output_type": "display_data"
    }
   ],
   "source": [
    "plt.imshow(x_train[2].reshape(28,28))"
   ]
  },
  {
   "cell_type": "code",
   "execution_count": 11,
   "id": "b423df29",
   "metadata": {},
   "outputs": [
    {
     "name": "stdout",
     "output_type": "stream",
     "text": [
      "Epoch 1/15\n",
      "235/235 [==============================] - 4s 14ms/step - loss: 0.3525 - val_loss: 0.2658\n",
      "Epoch 2/15\n",
      "235/235 [==============================] - 3s 11ms/step - loss: 0.2477 - val_loss: 0.2295\n",
      "Epoch 3/15\n",
      "235/235 [==============================] - 2s 9ms/step - loss: 0.2199 - val_loss: 0.2097\n",
      "Epoch 4/15\n",
      "235/235 [==============================] - 3s 11ms/step - loss: 0.2080 - val_loss: 0.2039\n",
      "Epoch 5/15\n",
      "235/235 [==============================] - 3s 12ms/step - loss: 0.2039 - val_loss: 0.2011\n",
      "Epoch 6/15\n",
      "235/235 [==============================] - 2s 10ms/step - loss: 0.2015 - val_loss: 0.1993\n",
      "Epoch 7/15\n",
      "235/235 [==============================] - 3s 11ms/step - loss: 0.1998 - val_loss: 0.1978\n",
      "Epoch 8/15\n",
      "235/235 [==============================] - 2s 10ms/step - loss: 0.1984 - val_loss: 0.1967\n",
      "Epoch 9/15\n",
      "235/235 [==============================] - 2s 9ms/step - loss: 0.1973 - val_loss: 0.1956\n",
      "Epoch 10/15\n",
      "235/235 [==============================] - 2s 10ms/step - loss: 0.1963 - val_loss: 0.1947\n",
      "Epoch 11/15\n",
      "235/235 [==============================] - 3s 15ms/step - loss: 0.1955 - val_loss: 0.1940\n",
      "Epoch 12/15\n",
      "235/235 [==============================] - 3s 12ms/step - loss: 0.1947 - val_loss: 0.1933\n",
      "Epoch 13/15\n",
      "235/235 [==============================] - 2s 10ms/step - loss: 0.1941 - val_loss: 0.1926\n",
      "Epoch 14/15\n",
      "235/235 [==============================] - 2s 10ms/step - loss: 0.1935 - val_loss: 0.1920\n",
      "Epoch 15/15\n",
      "235/235 [==============================] - 2s 10ms/step - loss: 0.1930 - val_loss: 0.1916\n"
     ]
    },
    {
     "data": {
      "text/plain": [
       "<keras.callbacks.History at 0x23b000a9b50>"
      ]
     },
     "execution_count": 11,
     "metadata": {},
     "output_type": "execute_result"
    }
   ],
   "source": [
    "autoencoder.fit(x_train, x_train, epochs=15, batch_size=256,validation_data=(x_test, x_test))"
   ]
  },
  {
   "cell_type": "code",
   "execution_count": 12,
   "id": "a8e5dda1",
   "metadata": {},
   "outputs": [
    {
     "name": "stdout",
     "output_type": "stream",
     "text": [
      "313/313 [==============================] - 1s 2ms/step\n"
     ]
    }
   ],
   "source": [
    "encoded_img = encoder.predict(x_test)"
   ]
  },
  {
   "cell_type": "code",
   "execution_count": 13,
   "id": "5feaefb7",
   "metadata": {},
   "outputs": [
    {
     "data": {
      "text/plain": [
       "<matplotlib.image.AxesImage at 0x23b015034f0>"
      ]
     },
     "execution_count": 13,
     "metadata": {},
     "output_type": "execute_result"
    },
    {
     "data": {
      "image/png": "[encoded data removed]",
      "text/plain": [
       "<Figure size 640x480 with 1 Axes>"
      ]
     },
     "metadata": {},
     "output_type": "display_data"
    }
   ],
   "source": [
    "plt.imshow(encoded_img[6].reshape(1,5)) # 1*5 = 5 i.e encoding dim"
   ]
  },
  {
   "cell_type": "code",
   "execution_count": 14,
   "id": "c3d225ce",
   "metadata": {},
   "outputs": [
    {
     "name": "stdout",
     "output_type": "stream",
     "text": [
      "313/313 [==============================] - 1s 2ms/step\n"
     ]
    }
   ],
   "source": [
    "decoded_img = decoder.predict(encoded_img)"
   ]
  },
  {
   "cell_type": "code",
   "execution_count": 15,
   "id": "07387254",
   "metadata": {},
   "outputs": [
    {
     "data": {
      "text/plain": [
       "<matplotlib.image.AxesImage at 0x23b01538130>"
      ]
     },
     "execution_count": 15,
     "metadata": {},
     "output_type": "execute_result"
    },
    {
     "data": {
      "image/png": "[encoded data removed]",
      "text/plain": [
       "<Figure size 640x480 with 1 Axes>"
      ]
     },
     "metadata": {},
     "output_type": "display_data"
    }
   ],
   "source": [
    "plt.imshow(decoded_img [2].reshape(28,28))"
   ]
  },
  {
   "cell_type": "code",
   "execution_count": 16,
   "id": "412d2aed",
   "metadata": {},
   "outputs": [
    {
     "name": "stdout",
     "output_type": "stream",
     "text": [
      "313/313 [==============================] - 1s 4ms/step\n"
     ]
    }
   ],
   "source": [
    "output_image = autoencoder.predict(x_test)"
   ]
  },
  {
   "cell_type": "code",
   "execution_count": 17,
   "id": "b01e95e6",
   "metadata": {},
   "outputs": [
    {
     "data": {
      "text/plain": [
       "<matplotlib.image.AxesImage at 0x23b015a7790>"
      ]
     },
     "execution_count": 17,
     "metadata": {},
     "output_type": "execute_result"
    },
    {
     "data": {
      "image/png": "[encoded data removed]",
      "text/plain": [
       "<Figure size 640x480 with 1 Axes>"
      ]
     },
     "metadata": {},
     "output_type": "display_data"
    }
   ],
   "source": [
    "plt.imshow(output_image[2].reshape(28,28))"
   ]
  },
  {
   "cell_type": "code",
   "execution_count": null,
   "id": "9fa42f07",
   "metadata": {},
   "outputs": [],
   "source": []
  },
  {
   "cell_type": "code",
   "execution_count": null,
   "id": "9189b1f2",
   "metadata": {},
   "outputs": [],
   "source": [
    "from sklearn.preprocessing"
   ]
  },
  {
   "cell_type": "code",
   "execution_count": null,
   "id": "0423ffb0",
   "metadata": {},
   "outputs": [],
   "source": []
  },
  {
   "cell_type": "code",
   "execution_count": null,
   "id": "ee4337b5",
   "metadata": {},
   "outputs": [],
   "source": []
  },
  {
   "cell_type": "code",
   "execution_count": null,
   "id": "0da83192",
   "metadata": {},
   "outputs": [],
   "source": []
  },
  {
   "cell_type": "code",
   "execution_count": null,
   "id": "edd7cc7e",
   "metadata": {},
   "outputs": [],
   "source": []
  },
  {
   "cell_type": "code",
   "execution_count": null,
   "id": "fc7fac4d",
   "metadata": {},
   "outputs": [],
   "source": []
  }
 ],
 "metadata": {
  "kernelspec": {
   "display_name": "Python 3 (ipykernel)",
   "language": "python",
   "name": "python3"
  },
  "language_info": {
   "codemirror_mode": {
    "name": "ipython",
    "version": 3
   },
   "file_extension": ".py",
   "mimetype": "text/x-python",
   "name": "python",
   "nbconvert_exporter": "python",
   "pygments_lexer": "ipython3",
   "version": "3.9.13"
  }
 },
 "nbformat": 4,
 "nbformat_minor": 5
}
